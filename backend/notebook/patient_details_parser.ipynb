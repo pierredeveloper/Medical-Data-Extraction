{
 "cells": [
  {
   "cell_type": "code",
   "execution_count": 31,
   "id": "9ec626e0-45f2-4e28-bc6c-77ae2a402676",
   "metadata": {},
   "outputs": [],
   "source": [
    "# import pdf2image to convert pdf to image\n",
    "from pdf2image import convert_from_path"
   ]
  },
  {
   "cell_type": "code",
   "execution_count": 32,
   "id": "417ddefd-3d37-4685-8d20-30f02d492f4d",
   "metadata": {},
   "outputs": [],
   "source": [
    "pages = convert_from_path(\"docs/patient_details/pd_2.pdf\", poppler_path=\"/home/pierre/miniconda3/bin\")"
   ]
  },
  {
   "cell_type": "code",
   "execution_count": 33,
   "id": "3d1e63e4-9a1f-4e61-9e37-c5864778a0a8",
   "metadata": {},
   "outputs": [
    {
     "data": {
      "text/plain": [
       "2"
      ]
     },
     "execution_count": 33,
     "metadata": {},
     "output_type": "execute_result"
    }
   ],
   "source": [
    "len(pages)"
   ]
  },
  {
   "cell_type": "code",
   "execution_count": 34,
   "id": "81df044b-cf2b-4e1d-8879-6d348bce3d89",
   "metadata": {},
   "outputs": [
    {
     "data": {
      "text/plain": [
       "[<PIL.PpmImagePlugin.PpmImageFile image mode=RGB size=1500x2000>,\n",
       " <PIL.PpmImagePlugin.PpmImageFile image mode=RGB size=1992x2000>]"
      ]
     },
     "execution_count": 34,
     "metadata": {},
     "output_type": "execute_result"
    }
   ],
   "source": [
    "pages"
   ]
  },
  {
   "cell_type": "code",
   "execution_count": 35,
   "id": "754ff1ab-c7cc-416d-9623-59f129179cd3",
   "metadata": {},
   "outputs": [],
   "source": [
    "pages[0].show()"
   ]
  },
  {
   "cell_type": "code",
   "execution_count": 36,
   "id": "8750442d-fc0e-44ae-bf1f-4dc265fa1307",
   "metadata": {},
   "outputs": [],
   "source": [
    "pages[1].show()"
   ]
  },
  {
   "cell_type": "code",
   "execution_count": 37,
   "id": "b767d297-2483-4f08-984a-57bbd80587b3",
   "metadata": {},
   "outputs": [],
   "source": [
    "import pytesseract"
   ]
  },
  {
   "cell_type": "code",
   "execution_count": 38,
   "id": "eee84193-a3ba-4ddc-a987-d6daa678c814",
   "metadata": {},
   "outputs": [
    {
     "name": "stdout",
     "output_type": "stream",
     "text": [
      "~~\n",
      "\n",
      "Patient Medical Record\n",
      "\n",
      "Patient Information\n",
      "Jerry Lucas\n",
      "\n",
      "(279) 920-8204\n",
      "\n",
      "4218 Wheeler Ridge Dr\n",
      "Buffalo, New York, 14201\n",
      "United States\n",
      "\n",
      "In Case of Emergency\n",
      "\n",
      " \n",
      "\n",
      "Birth Date\n",
      "May 2 1998\n",
      "\n",
      "Weight:\n",
      "\n",
      "57\n",
      "\n",
      "Height: a\n",
      "170 ae\n",
      "\n",
      "a\n",
      "\n",
      " \n",
      "\n",
      "Joe Lucas 4218 Wheeler Ridge Dr\n",
      "Buffalo, New York, 14201\n",
      "Home phone United States\n",
      "Work phone\n",
      "General Medical History\n",
      "Chicken Pox (Varicella): Measles:\n",
      "\n",
      "IMMUNE\n",
      "\n",
      "Have you had the Hepatitis B vaccination?\n",
      "\n",
      "NOT IMMUNE\n",
      "\n",
      "any Medical Problems (asthma, seizures, headaches):\n",
      "\n",
      " \n",
      "\f",
      "\n"
     ]
    }
   ],
   "source": [
    "# Convert the image file into text\n",
    "# Specify where google tesseract OCR is installed in the computer\n",
    "pytesseract.pytesseract.tesseract_cmd = \"/usr/bin/tesseract\"  \n",
    "text = pytesseract.image_to_string(pages[0], lang='eng')\n",
    "print(text)"
   ]
  },
  {
   "cell_type": "code",
   "execution_count": 39,
   "id": "596b19cf-829f-4f40-835d-210cdfe2217c",
   "metadata": {},
   "outputs": [
    {
     "name": "stdout",
     "output_type": "stream",
     "text": [
      "  \n",
      "    \n",
      " \n",
      " \n",
      " \n",
      " \n",
      " \n",
      " \n",
      "\n",
      "Name of Insurance Company:\n",
      "~ Random Insuarance Company\n",
      "\n",
      "Policy Number:\n",
      "5638746258\n",
      "\n",
      "Do you have medical insurance?\n",
      "\n",
      "Yes\n",
      "\n",
      "Medical Insurance Details\n",
      "\n",
      "List any allergies:\n",
      "N/A\n",
      "\n",
      " \n",
      "\n",
      "N/A\n",
      "\n",
      " \n",
      "\n",
      "List any medication taken regularly:\n",
      "\n",
      "4218 Smeeler Ridge Dr\n",
      "Buffalo, New York, 14206\n",
      "United States\n",
      "\n",
      "Expiry Date:\n",
      "31 December 2020\n",
      "\n",
      "  \n",
      "\n",
      "  \n",
      "\n",
      " \n",
      "\f",
      "\n"
     ]
    }
   ],
   "source": [
    "# Convert the image file into text\n",
    "# Specify where google tesseract OCR is installed in the computer\n",
    "pytesseract.pytesseract.tesseract_cmd = \"/usr/bin/tesseract\"  \n",
    "text = pytesseract.image_to_string(pages[1], lang='eng')\n",
    "print(text)"
   ]
  },
  {
   "cell_type": "code",
   "execution_count": 40,
   "id": "b01c5dff-0e25-4152-8ac7-1b2c8b635139",
   "metadata": {},
   "outputs": [],
   "source": [
    "# process the image to extract the text from the dark area of the image 1\n",
    "\n",
    "import numpy as np\n",
    "import cv2\n",
    "from PIL import Image\n",
    "\n",
    "def preprocess_image(img_0):\n",
    "    gray = cv2.cvtColor(np.array(img_0), cv2.COLOR_BGR2GRAY)\n",
    "    resized = cv2.resize(gray, None, fx=1.5, fy=1.5, interpolation=cv2.INTER_LINEAR)\n",
    "    processed_image = cv2.adaptiveThreshold(\n",
    "        resized, 255, \n",
    "        cv2.ADAPTIVE_THRESH_GAUSSIAN_C,\n",
    "        cv2.THRESH_BINARY,\n",
    "        61,\n",
    "        11\n",
    "    )\n",
    "    return processed_image"
   ]
  },
  {
   "cell_type": "code",
   "execution_count": 41,
   "id": "22a0c7ac-168b-48a8-a364-69440816f845",
   "metadata": {},
   "outputs": [],
   "source": [
    "img_0 = preprocess_image(pages[0])\n",
    "Image.fromarray(img_0).show()"
   ]
  },
  {
   "cell_type": "code",
   "execution_count": 42,
   "id": "643cc70a-29c0-4783-b136-acb3f8b9f75a",
   "metadata": {},
   "outputs": [],
   "source": [
    "# process the image to extract the text from the dark area of the image 2\n",
    "\n",
    "def preprocess_image(img_1):\n",
    "    gray = cv2.cvtColor(np.array(img_1), cv2.COLOR_BGR2GRAY)\n",
    "    resized = cv2.resize(gray, None, fx=1.5, fy=1.5, interpolation=cv2.INTER_LINEAR)\n",
    "    processed_image = cv2.adaptiveThreshold(\n",
    "        resized, 255, \n",
    "        cv2.ADAPTIVE_THRESH_GAUSSIAN_C,\n",
    "        cv2.THRESH_BINARY,\n",
    "        61,\n",
    "        11\n",
    "    )\n",
    "    return processed_image"
   ]
  },
  {
   "cell_type": "code",
   "execution_count": 43,
   "id": "42972ada-bc0e-4a68-93d2-f17d494f19ff",
   "metadata": {},
   "outputs": [],
   "source": [
    "img_1 = preprocess_image(pages[1])\n",
    "Image.fromarray(img_1).show()"
   ]
  },
  {
   "cell_type": "code",
   "execution_count": 44,
   "id": "6d028f64-ecf2-4b53-97d5-dd36de4dc346",
   "metadata": {},
   "outputs": [
    {
     "name": "stdout",
     "output_type": "stream",
     "text": [
      "   \n",
      "\n",
      "17/12/2020\n",
      "\n",
      "Patient Medical Record\n",
      "\n",
      "Patient Information Birth Date\n",
      "\n",
      "Jerry Lucas May 2 1998\n",
      "\n",
      "(279) 920-8204 Weight:\n",
      "\n",
      "4218 Wheeler Ridge Dr 57\n",
      "\n",
      "Buffalo, New York, 14201 Height:\n",
      "\n",
      "United States gnt\n",
      "170\n",
      "\n",
      "In Case of Emergency |\n",
      "meee\n",
      "\n",
      "Joe Lucas . 4218 Wheeler Ridge Dr\n",
      "Buffalo, New York, 14201\n",
      "\n",
      "Home phone United States \"\n",
      "Work phone\n",
      "\n",
      "General Medical History\n",
      "\n",
      " \n",
      "\n",
      "Chicken Pox (Varicelia): Measles: ..\n",
      "\n",
      "IMMUNE NOT IMMUNE\n",
      "\n",
      "Have you had the Hepatitis B vaccination?\n",
      "\n",
      ": Yes\n",
      "\n",
      "| List any Medical Problems (asthma, seizures, headaches):\n",
      "N/A\n",
      "\n",
      "7?\n",
      "v\n",
      "\n",
      "   \n",
      "\f",
      "\n"
     ]
    }
   ],
   "source": [
    "pytesseract.pytesseract.tesseract_cmd= \"/usr/bin/tesseract\"  \n",
    "text = pytesseract.image_to_string(img_0, lang='eng')\n",
    "print(text)"
   ]
  },
  {
   "cell_type": "code",
   "execution_count": 45,
   "id": "99ab64cd-1449-40ee-af2d-81444194886a",
   "metadata": {},
   "outputs": [
    {
     "name": "stdout",
     "output_type": "stream",
     "text": [
      "— On\n",
      "ii TSC LEADER A AC SAA ater\n",
      "\n",
      "Name of Insurance Company:\n",
      "\n",
      "Random Insuarance Company 4218 Smeeler Ridge Dr\n",
      "Paicy Number net state\n",
      "5638746258\n",
      "\n",
      "Expiry Date:\n",
      "\n",
      "31 December 2020\n",
      "\n",
      "Do you have medical insurance?\n",
      "\n",
      "_ Yes\n",
      "\n",
      "Medical Insurance Details\n",
      "\n",
      "List any allergies:\n",
      "\n",
      "N/A\n",
      "\n",
      "List any medication taken regularly:\n",
      "N/A\n",
      "\f",
      "\n"
     ]
    },
    {
     "name": "stderr",
     "output_type": "stream",
     "text": [
      "\n",
      "(eog:37264): EOG-WARNING **: 18:20:07.164: Thumbnail creation failed\n"
     ]
    }
   ],
   "source": [
    "pytesseract.pytesseract.tesseract_cmd= \"/usr/bin/tesseract\"  \n",
    "text = pytesseract.image_to_string(img_1, lang='eng')\n",
    "print(text)"
   ]
  },
  {
   "cell_type": "code",
   "execution_count": null,
   "id": "8bbd3896-466d-4c16-8256-a582765288b9",
   "metadata": {},
   "outputs": [],
   "source": []
  },
  {
   "cell_type": "code",
   "execution_count": null,
   "id": "3a02d0ee-3ca8-4a22-877c-d99f8e75c1a6",
   "metadata": {},
   "outputs": [],
   "source": []
  },
  {
   "cell_type": "code",
   "execution_count": null,
   "id": "3ea73077-9c50-4ef1-b41c-3806cf13ac91",
   "metadata": {},
   "outputs": [],
   "source": []
  }
 ],
 "metadata": {
  "kernelspec": {
   "display_name": "Python 3 (ipykernel)",
   "language": "python",
   "name": "python3"
  },
  "language_info": {
   "codemirror_mode": {
    "name": "ipython",
    "version": 3
   },
   "file_extension": ".py",
   "mimetype": "text/x-python",
   "name": "python",
   "nbconvert_exporter": "python",
   "pygments_lexer": "ipython3",
   "version": "3.12.9"
  }
 },
 "nbformat": 4,
 "nbformat_minor": 5
}
