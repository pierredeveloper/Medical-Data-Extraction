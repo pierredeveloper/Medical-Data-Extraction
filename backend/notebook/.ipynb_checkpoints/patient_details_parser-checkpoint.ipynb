{
 "cells": [
  {
   "cell_type": "code",
   "execution_count": 1,
   "id": "9ec626e0-45f2-4e28-bc6c-77ae2a402676",
   "metadata": {},
   "outputs": [],
   "source": [
    "# import pdf2image to convert pdf to image\n",
    "from pdf2image import convert_from_path"
   ]
  },
  {
   "cell_type": "code",
   "execution_count": 2,
   "id": "417ddefd-3d37-4685-8d20-30f02d492f4d",
   "metadata": {},
   "outputs": [],
   "source": [
    "pages = convert_from_path(\"docs/patient_details/pd_1.pdf\", poppler_path=\"/home/pierre/miniconda3/bin\")"
   ]
  },
  {
   "cell_type": "code",
   "execution_count": 3,
   "id": "3d1e63e4-9a1f-4e61-9e37-c5864778a0a8",
   "metadata": {},
   "outputs": [
    {
     "data": {
      "text/plain": [
       "2"
      ]
     },
     "execution_count": 3,
     "metadata": {},
     "output_type": "execute_result"
    }
   ],
   "source": [
    "len(pages)"
   ]
  },
  {
   "cell_type": "code",
   "execution_count": 6,
   "id": "81df044b-cf2b-4e1d-8879-6d348bce3d89",
   "metadata": {},
   "outputs": [
    {
     "data": {
      "text/plain": [
       "[<PIL.PpmImagePlugin.PpmImageFile image mode=RGB size=1867x2000>,\n",
       " <PIL.PpmImagePlugin.PpmImageFile image mode=RGB size=2000x1398>]"
      ]
     },
     "execution_count": 6,
     "metadata": {},
     "output_type": "execute_result"
    }
   ],
   "source": [
    "pages"
   ]
  },
  {
   "cell_type": "code",
   "execution_count": 40,
   "id": "754ff1ab-c7cc-416d-9623-59f129179cd3",
   "metadata": {},
   "outputs": [],
   "source": [
    "pages[0].show()"
   ]
  },
  {
   "cell_type": "code",
   "execution_count": 41,
   "id": "8750442d-fc0e-44ae-bf1f-4dc265fa1307",
   "metadata": {},
   "outputs": [],
   "source": [
    "pages[1].show()"
   ]
  },
  {
   "cell_type": "code",
   "execution_count": 9,
   "id": "b767d297-2483-4f08-984a-57bbd80587b3",
   "metadata": {},
   "outputs": [],
   "source": [
    "import pytesseract"
   ]
  },
  {
   "cell_type": "code",
   "execution_count": 10,
   "id": "eee84193-a3ba-4ddc-a987-d6daa678c814",
   "metadata": {},
   "outputs": [
    {
     "name": "stdout",
     "output_type": "stream",
     "text": [
      " \n",
      "\n",
      "47/12/2020\n",
      "\n",
      " \n",
      "\n",
      "Patient Medical Record\n",
      "\n",
      " \n",
      "\n",
      "Patient Information Birth Date\n",
      "Kathy Crawford May 6 1972\n",
      "(737) 988-0851 Weight’\n",
      "9264 Ash Dr 95\n",
      "New York City, 10005 .\n",
      "United States Height:\n",
      "190\n",
      "In Case of Emergency\n",
      "“ _ eee ee\n",
      "Simeone Crawford 9266 Ash Dr\n",
      "New York City, New York, 10005\n",
      "Home phone United States\n",
      "(990) 375-4621\n",
      "Work phone\n",
      "Genera! Medical History\n",
      "\n",
      " \n",
      "\n",
      "Chicken Pox (Varicella):\n",
      "\n",
      "IMMUNE IMMUNE\n",
      "Have you had the Hepatitis B vaccination?\n",
      "\n",
      "No\n",
      "List any Medical Problems (asthma, seizures, headaches):\n",
      "\n",
      "Migraine\n",
      "\f",
      "\n"
     ]
    }
   ],
   "source": [
    "# Convert the image file into text\n",
    "# Specify where google tesseract OCR is installed in the computer\n",
    "pytesseract.pytesseract.tesseract_cmd = \"/usr/bin/tesseract\"  \n",
    "text = pytesseract.image_to_string(pages[0], lang='eng')\n",
    "print(text)"
   ]
  },
  {
   "cell_type": "code",
   "execution_count": 11,
   "id": "596b19cf-829f-4f40-835d-210cdfe2217c",
   "metadata": {},
   "outputs": [
    {
     "name": "stdout",
     "output_type": "stream",
     "text": [
      " \n",
      "\n",
      "pe\n",
      "\n",
      "’ Name of Insurance Company:\n",
      "\n",
      "Random tnsuarance Company , 4789 Bollinger Rd\n",
      "Policy Number: ————————_\n",
      "\n",
      "7115207313 Expiry Date:\n",
      "30 December 2020\n",
      "Do you have medical insurance?\n",
      "\n",
      "Yes\n",
      "\n",
      "Medical Insurance Details\n",
      "\n",
      "List any allergies:\n",
      "\n",
      "Peanuts\n",
      "\n",
      "List any medication taken regularly:\n",
      "\n",
      "Triptans\n",
      "\n",
      " \n",
      "\f",
      "\n"
     ]
    }
   ],
   "source": [
    "# Convert the image file into text\n",
    "# Specify where google tesseract OCR is installed in the computer\n",
    "pytesseract.pytesseract.tesseract_cmd = \"/usr/bin/tesseract\"  \n",
    "text = pytesseract.image_to_string(pages[1], lang='eng')\n",
    "print(text)"
   ]
  },
  {
   "cell_type": "code",
   "execution_count": 30,
   "id": "b01c5dff-0e25-4152-8ac7-1b2c8b635139",
   "metadata": {},
   "outputs": [],
   "source": [
    "# process the image to extract the text from the dark area of the image 1\n",
    "\n",
    "import numpy as np\n",
    "import cv2\n",
    "from PIL import Image\n",
    "\n",
    "def preprocess_image(img_0):\n",
    "    gray = cv2.cvtColor(np.array(img_0), cv2.COLOR_BGR2GRAY)\n",
    "    resized = cv2.resize(gray, None, fx=1.5, fy=1.5, interpolation=cv2.INTER_LINEAR)\n",
    "    processed_image = cv2.adaptiveThreshold(\n",
    "        resized, 255, \n",
    "        cv2.ADAPTIVE_THRESH_GAUSSIAN_C,\n",
    "        cv2.THRESH_BINARY,\n",
    "        61,\n",
    "        11\n",
    "    )\n",
    "    return processed_image"
   ]
  },
  {
   "cell_type": "code",
   "execution_count": 34,
   "id": "22a0c7ac-168b-48a8-a364-69440816f845",
   "metadata": {},
   "outputs": [],
   "source": [
    "img_0 = preprocess_image(pages[0])\n",
    "Image.fromarray(img_0).show()"
   ]
  },
  {
   "cell_type": "code",
   "execution_count": 35,
   "id": "643cc70a-29c0-4783-b136-acb3f8b9f75a",
   "metadata": {},
   "outputs": [],
   "source": [
    "# process the image to extract the text from the dark area of the image 2\n",
    "\n",
    "def preprocess_image(img_1):\n",
    "    gray = cv2.cvtColor(np.array(img_1), cv2.COLOR_BGR2GRAY)\n",
    "    resized = cv2.resize(gray, None, fx=1.5, fy=1.5, interpolation=cv2.INTER_LINEAR)\n",
    "    processed_image = cv2.adaptiveThreshold(\n",
    "        resized, 255, \n",
    "        cv2.ADAPTIVE_THRESH_GAUSSIAN_C,\n",
    "        cv2.THRESH_BINARY,\n",
    "        61,\n",
    "        11\n",
    "    )\n",
    "    return processed_image"
   ]
  },
  {
   "cell_type": "code",
   "execution_count": 36,
   "id": "42972ada-bc0e-4a68-93d2-f17d494f19ff",
   "metadata": {},
   "outputs": [],
   "source": [
    "img_1 = preprocess_image(pages[1])\n",
    "Image.fromarray(img_1).show()"
   ]
  },
  {
   "cell_type": "code",
   "execution_count": 37,
   "id": "6d028f64-ecf2-4b53-97d5-dd36de4dc346",
   "metadata": {},
   "outputs": [
    {
     "name": "stdout",
     "output_type": "stream",
     "text": [
      "17/12/2020\n",
      "\n",
      " \n",
      "\n",
      "Patient Medical Record\n",
      "\n",
      " \n",
      "\n",
      " \n",
      "\n",
      "Patient Information Birth Date\n",
      "Kathy Crawford May 6 1972\n",
      "(737) 988-0851 Weight’\n",
      "9264 Ash Dr 95\n",
      "New York City, 10005 '\n",
      "United States Height:\n",
      "190\n",
      "In Casc of Emergency\n",
      "7 7\n",
      "Simeone Crawford 9266 Ash Dr\n",
      "New York City, New York, 10005\n",
      "Home phone United States\n",
      "(990) 375-4621\n",
      "Work phone\n",
      "\n",
      "Genera! Medical History\n",
      "\n",
      "a\n",
      "\n",
      "ee\n",
      "\n",
      "nh ee A OE i ne\n",
      "\n",
      "Chicken Pox (Varicella): Measies:\n",
      "\n",
      "IMMUNE IMMUNE\n",
      "\n",
      "Have you had the Hepatitis B vaccination?\n",
      "No\n",
      "\n",
      "List any Medical Problems (asthma, seizures, headaches}:\n",
      "\n",
      "Migraine\n",
      "\n",
      " \n",
      "\n",
      "be\n",
      "\n",
      "C\n",
      "mat\n",
      "Lh\n",
      "oo\n",
      "\f",
      "\n"
     ]
    }
   ],
   "source": [
    "pytesseract.pytesseract.tesseract_cmd= \"/usr/bin/tesseract\"  \n",
    "text = pytesseract.image_to_string(img_0, lang='eng')\n",
    "print(text)"
   ]
  },
  {
   "cell_type": "code",
   "execution_count": 38,
   "id": "99ab64cd-1449-40ee-af2d-81444194886a",
   "metadata": {},
   "outputs": [
    {
     "name": "stdout",
     "output_type": "stream",
     "text": [
      "       \n",
      " \n",
      "   \n",
      "\n",
      "’\n",
      "\n",
      "-Name of Insurance Company:\n",
      "\n",
      "Random Insuarance Company i 4789 Bollinger Rd\n",
      "Jersey City, New Jersey, 07030\n",
      "\n",
      "f\n",
      ", Policy Number:\n",
      "71 1520731 3 Expiry Date:\n",
      "\n",
      "   \n",
      "\n",
      ". 30 December 2020\n",
      "Do you have medical insurance?\n",
      "\n",
      "Yes:\n",
      "\n",
      "Medical Insurance Details\n",
      "\n",
      "List any allergies:\n",
      "\n",
      "Peanuts\n",
      "\n",
      "List any medication taken regularly:\n",
      "Triptans\n",
      "\f",
      "\n"
     ]
    }
   ],
   "source": [
    "pytesseract.pytesseract.tesseract_cmd= \"/usr/bin/tesseract\"  \n",
    "text = pytesseract.image_to_string(img_1, lang='eng')\n",
    "print(text)"
   ]
  },
  {
   "cell_type": "code",
   "execution_count": null,
   "id": "8bbd3896-466d-4c16-8256-a582765288b9",
   "metadata": {},
   "outputs": [],
   "source": []
  }
 ],
 "metadata": {
  "kernelspec": {
   "display_name": "Python 3 (ipykernel)",
   "language": "python",
   "name": "python3"
  },
  "language_info": {
   "codemirror_mode": {
    "name": "ipython",
    "version": 3
   },
   "file_extension": ".py",
   "mimetype": "text/x-python",
   "name": "python",
   "nbconvert_exporter": "python",
   "pygments_lexer": "ipython3",
   "version": "3.12.9"
  }
 },
 "nbformat": 4,
 "nbformat_minor": 5
}
