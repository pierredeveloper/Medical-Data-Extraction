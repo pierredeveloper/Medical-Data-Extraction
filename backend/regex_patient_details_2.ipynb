{
 "cells": [
  {
   "cell_type": "code",
   "execution_count": 81,
   "id": "af16de33-4485-479d-b0be-8d660c9e2453",
   "metadata": {},
   "outputs": [],
   "source": [
    "import re"
   ]
  },
  {
   "cell_type": "code",
   "execution_count": 82,
   "id": "e44c0fb4-1260-4047-b109-d9a37047b833",
   "metadata": {},
   "outputs": [],
   "source": [
    "text_1 = '''\n",
    "17/12/2020\n",
    "\n",
    " \n",
    "\n",
    "Patient Medical Record\n",
    "\n",
    " \n",
    "\n",
    " \n",
    "\n",
    "Patient Information Birth Date\n",
    "Kathy Crawford May 6 1972\n",
    "(737) 988-0851 Weight’\n",
    "9264 Ash Dr 95\n",
    "New York City, 10005 '\n",
    "United States Height:\n",
    "190\n",
    "In Casc of Emergency\n",
    "7 7\n",
    "Simeone Crawford 9266 Ash Dr\n",
    "New York City, New York, 10005\n",
    "Home phone United States\n",
    "(990) 375-4621\n",
    "Work phone\n",
    "\n",
    "Genera! Medical History\n",
    "\n",
    "a\n",
    "\n",
    "ee\n",
    "\n",
    "nh ee A OE i ne\n",
    "\n",
    "Chicken Pox (Varicella): Measies:\n",
    "\n",
    "IMMUNE IMMUNE\n",
    "\n",
    "Have you had the Hepatitis B vaccination?\n",
    "No\n",
    "\n",
    "List any Medical Problems (asthma, seizures, headaches):\n",
    "\n",
    "Migraine\n",
    "\n",
    "'''"
   ]
  },
  {
   "cell_type": "code",
   "execution_count": 83,
   "id": "16b23994-01ad-4940-aba3-fad66d9e20e5",
   "metadata": {},
   "outputs": [
    {
     "name": "stdout",
     "output_type": "stream",
     "text": [
      "Kathy Crawford\n"
     ]
    }
   ],
   "source": [
    "# Extract the patient name\n",
    "pattern = r\"([A-Z][a-z]+ [A-Z][a-z]+)\\s+[A-Z][a-z]+ \\d{1,2} \\d{4}\"\n",
    "\n",
    "match = re.findall(pattern, text_1)\n",
    "\n",
    "print(match[0]) "
   ]
  },
  {
   "cell_type": "code",
   "execution_count": 84,
   "id": "510c02bb-0dac-4e54-9b60-13fe22c2b7df",
   "metadata": {},
   "outputs": [
    {
     "name": "stdout",
     "output_type": "stream",
     "text": [
      "(737) 988-0851\n"
     ]
    }
   ],
   "source": [
    "# Extract the phone number\n",
    "pattern = r'\\(?\\d{3}\\)?[-.\\s]?\\d{3}[-.\\s]?\\d{4}'\n",
    "\n",
    "match = re.search(pattern, text_1)\n",
    "print(match.group().strip())"
   ]
  },
  {
   "cell_type": "code",
   "execution_count": 85,
   "id": "e1c4bdb7-2caf-4b83-9f82-59721e257eac",
   "metadata": {},
   "outputs": [
    {
     "name": "stdout",
     "output_type": "stream",
     "text": [
      "9264 Ash Dr 95\n",
      "New York City, 10005 '\n",
      "United States\n"
     ]
    },
    {
     "name": "stderr",
     "output_type": "stream",
     "text": [
      "<>:2: SyntaxWarning: invalid escape sequence '\\('\n",
      "<>:2: SyntaxWarning: invalid escape sequence '\\('\n",
      "/tmp/ipykernel_38062/742859631.py:2: SyntaxWarning: invalid escape sequence '\\('\n",
      "  pattern = \"\\(737\\) 988-0851 Weight[^\\n]*(.*)Height\"\n"
     ]
    }
   ],
   "source": [
    "# Extract the address\n",
    "pattern = \"\\(737\\) 988-0851 Weight[^\\n]*(.*)Height\"\n",
    "\n",
    "match = re.findall(pattern, text_1, flags=re.DOTALL)\n",
    "print(match[0].strip())"
   ]
  },
  {
   "cell_type": "code",
   "execution_count": 86,
   "id": "e4d27cc5-7af4-46d9-97ad-bc760217f3bc",
   "metadata": {},
   "outputs": [
    {
     "name": "stdout",
     "output_type": "stream",
     "text": [
      "No\n"
     ]
    },
    {
     "name": "stderr",
     "output_type": "stream",
     "text": [
      "<>:2: SyntaxWarning: invalid escape sequence '\\?'\n",
      "<>:2: SyntaxWarning: invalid escape sequence '\\?'\n",
      "/tmp/ipykernel_38062/1743140815.py:2: SyntaxWarning: invalid escape sequence '\\?'\n",
      "  pattern = \"Have you had the Hepatitis B vaccination\\?.*(Yes|No)\"\n"
     ]
    }
   ],
   "source": [
    "# Extract vaccine record\n",
    "pattern = \"Have you had the Hepatitis B vaccination\\?.*(Yes|No)\"\n",
    "\n",
    "match = re.findall(pattern, text_1, flags=re.DOTALL)\n",
    "print(match[0].strip())"
   ]
  },
  {
   "cell_type": "code",
   "execution_count": 95,
   "id": "e3d2367f-7ca5-4228-b16d-06c487e3bd24",
   "metadata": {},
   "outputs": [
    {
     "name": "stdout",
     "output_type": "stream",
     "text": [
      "Migraine\n"
     ]
    }
   ],
   "source": [
    "# Extract medical problems\n",
    "pattern = r\"List any Medical Problems.*?:\\s*(.*)\"\n",
    "\n",
    "match = re.findall(pattern, text_1, flags=re.DOTALL)\n",
    "print(match[0].strip())"
   ]
  },
  {
   "cell_type": "code",
   "execution_count": null,
   "id": "b2d0cb60-f292-4583-8c91-f61562cc2016",
   "metadata": {},
   "outputs": [],
   "source": []
  },
  {
   "cell_type": "code",
   "execution_count": 88,
   "id": "bb72d26a-17fd-4f5f-916b-53e90eb6a09f",
   "metadata": {},
   "outputs": [],
   "source": [
    "text_2 = '''\n",
    "17/12/2020\n",
    "\n",
    "Patient Medical Record\n",
    "\n",
    "Patient Information Birth Date\n",
    "\n",
    "Jerry Lucas May 2 1998\n",
    "\n",
    "(279) 920-8204 Weight:\n",
    "\n",
    "4218 Wheeler Ridge Dr 57\n",
    "\n",
    "Buffalo, New York, 14201 Height:\n",
    "\n",
    "United States gnt\n",
    "170\n",
    "\n",
    "In Case of Emergency |\n",
    "meee\n",
    "\n",
    "Joe Lucas . 4218 Wheeler Ridge Dr\n",
    "Buffalo, New York, 14201\n",
    "\n",
    "Home phone United States \"\n",
    "Work phone\n",
    "\n",
    "General Medical History\n",
    "\n",
    " \n",
    "\n",
    "Chicken Pox (Varicelia): Measles: ..\n",
    "\n",
    "IMMUNE NOT IMMUNE\n",
    "\n",
    "Have you had the Hepatitis B vaccination?\n",
    "\n",
    "Yes\n",
    "\n",
    "List any Medical Problems (asthma, seizures, headaches):\n",
    "N/A\n",
    "'''"
   ]
  },
  {
   "cell_type": "code",
   "execution_count": 89,
   "id": "ce49181c-6bf4-4fb7-b85d-258e8c228ad7",
   "metadata": {},
   "outputs": [
    {
     "name": "stdout",
     "output_type": "stream",
     "text": [
      "Jerry Lucas\n"
     ]
    }
   ],
   "source": [
    "# Extract the patient name\n",
    "pattern = r\"([A-Z][a-z]+ [A-Z][a-z]+)\\s+[A-Z][a-z]+ \\d{1,2} \\d{4}\"\n",
    "\n",
    "match = re.findall(pattern, text_2)\n",
    "\n",
    "print(match[0]) \n",
    "\n",
    "# pattern = \"Patient Information Birth Date[^\\n]*(.*)May 2 1998\"\n",
    "\n",
    "# match = re.findall(pattern, text_2, flags=re.DOTALL)\n",
    "# print(match[0].strip())"
   ]
  },
  {
   "cell_type": "code",
   "execution_count": 90,
   "id": "017c54f9-cf07-4976-8478-8f6e9bd26c09",
   "metadata": {},
   "outputs": [
    {
     "name": "stdout",
     "output_type": "stream",
     "text": [
      "(279) 920-8204\n"
     ]
    }
   ],
   "source": [
    "# Extract the phone number\n",
    "pattern = r'\\(?\\d{3}\\)?[-.\\s]?\\d{3}[-.\\s]?\\d{4}'\n",
    "\n",
    "match = re.search(pattern, text_2)\n",
    "print(match.group().strip())\n",
    "\n",
    "# pattern = \"Jerry Lucas May 2 1998[^\\n]*(.*)Weight\"\n",
    "\n",
    "# match = re.findall(pattern, text_2, flags=re.DOTALL)\n",
    "# print(match[0].strip())"
   ]
  },
  {
   "cell_type": "code",
   "execution_count": 91,
   "id": "acde7b0a-9b4e-4325-b932-58f70740c56a",
   "metadata": {},
   "outputs": [
    {
     "name": "stdout",
     "output_type": "stream",
     "text": [
      "4218 Wheeler Ridge Dr 57\n",
      "\n",
      "Buffalo, New York, 14201\n"
     ]
    },
    {
     "name": "stderr",
     "output_type": "stream",
     "text": [
      "<>:2: SyntaxWarning: invalid escape sequence '\\('\n",
      "<>:2: SyntaxWarning: invalid escape sequence '\\('\n",
      "/tmp/ipykernel_38062/2665090307.py:2: SyntaxWarning: invalid escape sequence '\\('\n",
      "  pattern = \"\\(279\\) 920-8204 Weight:[^\\n]*(.*)Height\"\n"
     ]
    }
   ],
   "source": [
    "# Extract the address\n",
    "pattern = \"\\(279\\) 920-8204 Weight:[^\\n]*(.*)Height\"\n",
    "\n",
    "match = re.findall(pattern, text_2, flags=re.DOTALL)\n",
    "print(match[0].strip())"
   ]
  },
  {
   "cell_type": "code",
   "execution_count": 92,
   "id": "e174bdb4-f97d-48f5-b49f-ebccba7be3f7",
   "metadata": {},
   "outputs": [
    {
     "name": "stderr",
     "output_type": "stream",
     "text": [
      "<>:2: SyntaxWarning: invalid escape sequence '\\?'\n",
      "<>:2: SyntaxWarning: invalid escape sequence '\\?'\n"
     ]
    },
    {
     "name": "stdout",
     "output_type": "stream",
     "text": [
      "Yes\n"
     ]
    },
    {
     "name": "stderr",
     "output_type": "stream",
     "text": [
      "/tmp/ipykernel_38062/661551766.py:2: SyntaxWarning: invalid escape sequence '\\?'\n",
      "  pattern = \"Have you had the Hepatitis B vaccination\\?.*(Yes|No)\"\n"
     ]
    }
   ],
   "source": [
    "# Extract vaccine record\n",
    "pattern = \"Have you had the Hepatitis B vaccination\\?.*(Yes|No)\"\n",
    "\n",
    "match = re.findall(pattern, text_2, flags=re.DOTALL)\n",
    "print(match[0].strip())"
   ]
  },
  {
   "cell_type": "code",
   "execution_count": 94,
   "id": "3e570074-6166-4fb2-8087-3ab249614126",
   "metadata": {},
   "outputs": [
    {
     "name": "stdout",
     "output_type": "stream",
     "text": [
      "Migraine\n"
     ]
    }
   ],
   "source": [
    "# Extract medical problems\n",
    "pattern = r\"List any Medical Problems.*?:\\s*(.*)\"\n",
    "\n",
    "match = re.findall(pattern, text_1, flags=re.DOTALL)\n",
    "print(match[0].strip())"
   ]
  },
  {
   "cell_type": "code",
   "execution_count": null,
   "id": "22615a78-4ca5-49a9-80bf-e588756c8170",
   "metadata": {},
   "outputs": [],
   "source": []
  }
 ],
 "metadata": {
  "kernelspec": {
   "display_name": "Python 3 (ipykernel)",
   "language": "python",
   "name": "python3"
  },
  "language_info": {
   "codemirror_mode": {
    "name": "ipython",
    "version": 3
   },
   "file_extension": ".py",
   "mimetype": "text/x-python",
   "name": "python",
   "nbconvert_exporter": "python",
   "pygments_lexer": "ipython3",
   "version": "3.12.9"
  }
 },
 "nbformat": 4,
 "nbformat_minor": 5
}
