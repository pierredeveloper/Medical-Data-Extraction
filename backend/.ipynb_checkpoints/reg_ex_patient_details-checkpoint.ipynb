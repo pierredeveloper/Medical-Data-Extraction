{
 "cells": [
  {
   "cell_type": "code",
   "execution_count": 1,
   "id": "777d9dd1-de0c-4a8c-9c6c-eed276a17309",
   "metadata": {},
   "outputs": [],
   "source": [
    "import re"
   ]
  },
  {
   "cell_type": "code",
   "execution_count": 51,
   "id": "68136e09-f494-4aa0-a4eb-42c57c2f5655",
   "metadata": {},
   "outputs": [],
   "source": [
    "text_1 = '''\n",
    "\n",
    "47/12/2020\n",
    "\n",
    "Patient Medical Record\n",
    "\n",
    "Patient Information:\n",
    "\n",
    "Patient details:\n",
    "\n",
    "Name: Kathy Crawford\n",
    "Birth Date: May 6 1972\n",
    "Weight: 95kg\n",
    "Height: 190pd\n",
    "Phone: (737) 988-0851\n",
    "Address: 9264 Ash Dr. \n",
    "New York City, 10005,\n",
    "United States. \n",
    "\n",
    "In Case of Emergency:\n",
    "\n",
    "Emergency Contact:\n",
    "\n",
    "Name: Simeone Crawford \n",
    "Address: 9266 Ash Dr.\n",
    "New York City, New York, 10005,\n",
    "United States.\n",
    "Work phone: (990) 375-4621\n",
    "\n",
    "General Medical History:\n",
    "\n",
    "Medical History:\n",
    "\n",
    "Chicken Pox (Varicella): IMMUNE\n",
    "Maesles: IMMUNE\n",
    "Have you had the Hepatitis B vaccination?\n",
    "No\n",
    "List any Medical Problems (asthma, seizures, headaches): \n",
    "Migraine\n",
    "\n",
    "'''"
   ]
  },
  {
   "cell_type": "code",
   "execution_count": 52,
   "id": "a2de028a-12a9-4a18-9731-9db18d6ad5b7",
   "metadata": {},
   "outputs": [
    {
     "name": "stdout",
     "output_type": "stream",
     "text": [
      "Patient details:\n",
      "\n",
      "Name: Kathy Crawford\n",
      "Birth Date: May 6 1972\n",
      "Weight: 95kg\n",
      "Height: 190pd\n",
      "Phone: (737) 988-0851\n",
      "Address: 9264 Ash Dr. \n",
      "New York City, 10005,\n",
      "United States.\n"
     ]
    }
   ],
   "source": [
    "# General information about patient\n",
    "pattern = \"Patient Information:[^\\n]*(.*)In Case of Emergency\"\n",
    "\n",
    "match = re.findall(pattern, text_1, flags=re.DOTALL)\n",
    "print(match[0].strip())\n",
    "\n",
    "# if match:\n",
    "#     print(match[0].strip())\n",
    "# else:\n",
    "#     print(\"No match found.\")"
   ]
  },
  {
   "cell_type": "code",
   "execution_count": 53,
   "id": "9be56133-b252-4355-a353-ee535a8d6ac3",
   "metadata": {},
   "outputs": [
    {
     "name": "stdout",
     "output_type": "stream",
     "text": [
      "Emergency Contact:\n",
      "\n",
      "Name: Simeone Crawford \n",
      "Address: 9266 Ash Dr.\n",
      "New York City, New York, 10005,\n",
      "United States.\n",
      "Work phone: (990) 375-4621\n"
     ]
    }
   ],
   "source": [
    "# Emergency contact\n",
    "pattern = \"In Case of Emergency[^\\n]*(.*)General Medical History\"\n",
    "\n",
    "match = re.findall(pattern, text_1, flags=re.DOTALL)\n",
    "print(match[0].strip())"
   ]
  },
  {
   "cell_type": "code",
   "execution_count": 54,
   "id": "f3566169-c5f5-4309-8286-b8961bbf396a",
   "metadata": {},
   "outputs": [
    {
     "name": "stdout",
     "output_type": "stream",
     "text": [
      "Medical History:\n",
      "\n",
      "Chicken Pox (Varicella): IMMUNE\n",
      "Maesles: IMMUNE\n",
      "Have you had the Hepatitis B vaccination?\n",
      "No\n",
      "List any Medical Problems (asthma, seizures, headaches): \n",
      "Migraine\n"
     ]
    }
   ],
   "source": [
    "# General medical history\n",
    "pattern = \"General Medical History:(.*)\\n\"\n",
    "\n",
    "match = re.findall(pattern, text_1, flags=re.DOTALL)\n",
    "print(match[0].strip())"
   ]
  },
  {
   "cell_type": "code",
   "execution_count": null,
   "id": "5a864d4b-cf8c-4ba0-a8a5-4e745962ca8d",
   "metadata": {},
   "outputs": [],
   "source": []
  },
  {
   "cell_type": "code",
   "execution_count": 73,
   "id": "e35dae07-e3f8-49ea-877a-efb4cb90791b",
   "metadata": {},
   "outputs": [],
   "source": [
    "text_2 = '''\n",
    "\n",
    "Name of Insurance Company:\n",
    "Random Insuarance Company \n",
    "\n",
    "Address: \n",
    "4789 Bollinger Rd, Jersey City, New Jersey, 07030\n",
    "\n",
    "Policy Number:\n",
    "7115207313 \n",
    "\n",
    "Expiry Date: 30 December 2020\n",
    "\n",
    "Do you have medical insurance?\n",
    "Yes\n",
    "\n",
    "Medical Insurance Details\n",
    "\n",
    "List any allergies:\n",
    "Peanuts\n",
    "\n",
    "List any medication taken regularly:\n",
    "Triptans\n",
    "\n",
    "'''"
   ]
  },
  {
   "cell_type": "code",
   "execution_count": 74,
   "id": "07e8e0c5-b1ba-4d13-8ec9-314f41130749",
   "metadata": {},
   "outputs": [
    {
     "name": "stdout",
     "output_type": "stream",
     "text": [
      "Random Insuarance Company\n"
     ]
    }
   ],
   "source": [
    "# Extract the insutrance company name\n",
    "pattern = r\"Name of Insurance Company:\\s*(.*?)\\s*(?:Address:|\\n[A-Z]|$)\"\n",
    "\n",
    "match = re.findall(pattern, text_2, flags=re.DOTALL)\n",
    "print(match[0].strip())"
   ]
  },
  {
   "cell_type": "code",
   "execution_count": 75,
   "id": "ddbc90d0-5748-4225-b681-c1221a53bfe4",
   "metadata": {},
   "outputs": [
    {
     "name": "stdout",
     "output_type": "stream",
     "text": [
      "4789 Bollinger Rd, Jersey City, New Jersey, 07030\n"
     ]
    }
   ],
   "source": [
    "pattern = \"Address:[^\\n]*(.*)Policy Number\"\n",
    "\n",
    "match = re.findall(pattern, text_2, flags=re.DOTALL)\n",
    "print(match[0].strip())"
   ]
  },
  {
   "cell_type": "code",
   "execution_count": null,
   "id": "48e7ff6b-d8a6-4463-9eb9-b5e42d3bd351",
   "metadata": {},
   "outputs": [],
   "source": []
  }
 ],
 "metadata": {
  "kernelspec": {
   "display_name": "Python 3 (ipykernel)",
   "language": "python",
   "name": "python3"
  },
  "language_info": {
   "codemirror_mode": {
    "name": "ipython",
    "version": 3
   },
   "file_extension": ".py",
   "mimetype": "text/x-python",
   "name": "python",
   "nbconvert_exporter": "python",
   "pygments_lexer": "ipython3",
   "version": "3.12.9"
  }
 },
 "nbformat": 4,
 "nbformat_minor": 5
}
