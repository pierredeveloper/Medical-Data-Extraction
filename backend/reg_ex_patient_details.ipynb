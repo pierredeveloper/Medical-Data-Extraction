{
 "cells": [
  {
   "cell_type": "code",
   "execution_count": 66,
   "id": "777d9dd1-de0c-4a8c-9c6c-eed276a17309",
   "metadata": {},
   "outputs": [],
   "source": [
    "import re"
   ]
  },
  {
   "cell_type": "code",
   "execution_count": 87,
   "id": "68136e09-f494-4aa0-a4eb-42c57c2f5655",
   "metadata": {},
   "outputs": [],
   "source": [
    "text_1 = '''\n",
    "17/12/2020\n",
    "\n",
    "Patient Medical Record\n",
    "\n",
    "Patient Information:\n",
    "\n",
    "Patient details\n",
    "\n",
    "Name: Kathy Crawford \n",
    "Birth Date: May 6 1972\n",
    "Weight: 95kg\n",
    "Height: 190pd\n",
    "Phone: (737) 988-0851\n",
    "Address: \n",
    "9264 Ash Dr, New York City, 10005, United States\n",
    "\n",
    "In Casc of Emergency:\n",
    "\n",
    "Emergency Contact:\n",
    "\n",
    "Simeone Crawford \n",
    "Address: 9266 Ash Dr\n",
    "New York City, New York, 10005\n",
    "United States\n",
    "Work phone: (990) 375-4621\n",
    "\n",
    "Genera! Medical History:\n",
    "\n",
    "Medical History:\n",
    "\n",
    "Chicken Pox (Varicella): IMMUNE\n",
    "Measles: IMMUNE\n",
    "Have you had the Hepatitis B vaccination?\n",
    "No\n",
    "List any Medical Problems (asthma, seizures, headaches):\n",
    "Migraine\n",
    "'''"
   ]
  },
  {
   "cell_type": "code",
   "execution_count": 88,
   "id": "a2de028a-12a9-4a18-9731-9db18d6ad5b7",
   "metadata": {},
   "outputs": [
    {
     "name": "stdout",
     "output_type": "stream",
     "text": [
      "Kathy Crawford\n"
     ]
    }
   ],
   "source": [
    "# General information about patient\n",
    "# pattern = \"Patient Information:[^\\n]*(.*)In Case of Emergency\"\n",
    "\n",
    "# match = re.findall(pattern, text_1, flags=re.DOTALL)\n",
    "# print(match[0].strip())\n",
    "\n",
    "# Patient name\n",
    "pattern = 'Name:(.*)'\n",
    "\n",
    "match = re.findall(pattern, text_1, flags=0)\n",
    "print(match[0].strip())"
   ]
  },
  {
   "cell_type": "code",
   "execution_count": 89,
   "id": "9be56133-b252-4355-a353-ee535a8d6ac3",
   "metadata": {},
   "outputs": [
    {
     "name": "stdout",
     "output_type": "stream",
     "text": [
      "(737) 988-0851\n"
     ]
    }
   ],
   "source": [
    "# # Emergency contact\n",
    "# pattern = \"In Case of Emergency[^\\n]*(.*)General Medical History\"\n",
    "\n",
    "# match = re.findall(pattern, text_1, flags=re.DOTALL)\n",
    "# print(match[0].strip())\n",
    "\n",
    "# Patient phone number\n",
    "pattern = 'Phone:(.*)'\n",
    "match = re.findall(pattern, text_1, flags=0)\n",
    "print(match[0].strip())"
   ]
  },
  {
   "cell_type": "code",
   "execution_count": 90,
   "id": "f52e4922-bfe6-43df-a5b1-0f626d800590",
   "metadata": {},
   "outputs": [
    {
     "name": "stdout",
     "output_type": "stream",
     "text": [
      "9264 Ash Dr, New York City, 10005, United States\n"
     ]
    }
   ],
   "source": [
    "# Extract the patient address\n",
    "# Pattern to capture the street and city/ZIP\n",
    "pattern = \"Address:[^\\n]*(.*)In Casc of Emergency:\"\n",
    "\n",
    "match = re.findall(pattern, text_1, flags=re.DOTALL)\n",
    "print(match[0].strip())"
   ]
  },
  {
   "cell_type": "code",
   "execution_count": 91,
   "id": "f3566169-c5f5-4309-8286-b8961bbf396a",
   "metadata": {},
   "outputs": [
    {
     "name": "stdout",
     "output_type": "stream",
     "text": [
      "No\n"
     ]
    },
    {
     "name": "stderr",
     "output_type": "stream",
     "text": [
      "<>:8: SyntaxWarning: invalid escape sequence '\\?'\n",
      "<>:8: SyntaxWarning: invalid escape sequence '\\?'\n",
      "/tmp/ipykernel_15266/3262823202.py:8: SyntaxWarning: invalid escape sequence '\\?'\n",
      "  pattern = \"Have you had the Hepatitis B vaccination\\?.*(Yes|No)\"  #\"Have you had the Hepatitis B vaccination\\?.*(Yes|No)\"\n"
     ]
    }
   ],
   "source": [
    "# General medical history\n",
    "# pattern = \"General Medical History:(.*)\\n\"\n",
    "\n",
    "# match = re.findall(pattern, text_1, flags=re.DOTALL)\n",
    "# print(match[0].strip())\n",
    "\n",
    "# Extract vaccine\n",
    "pattern = \"Have you had the Hepatitis B vaccination\\?.*(Yes|No)\"  #\"Have you had the Hepatitis B vaccination\\?.*(Yes|No)\"\n",
    "\n",
    "match = re.findall(pattern, text_1, flags=re.DOTALL)\n",
    "print(match[0].strip())"
   ]
  },
  {
   "cell_type": "code",
   "execution_count": 92,
   "id": "5247fee5-f475-44c9-93ff-aef82528d7a6",
   "metadata": {},
   "outputs": [
    {
     "name": "stdout",
     "output_type": "stream",
     "text": [
      "INMUNE\n"
     ]
    },
    {
     "name": "stderr",
     "output_type": "stream",
     "text": [
      "<>:2: SyntaxWarning: invalid escape sequence '\\('\n",
      "<>:2: SyntaxWarning: invalid escape sequence '\\('\n",
      "/tmp/ipykernel_15266/69060027.py:2: SyntaxWarning: invalid escape sequence '\\('\n",
      "  pattern = \"Chicken Pox \\(Varicella\\):(.*)\"\n"
     ]
    }
   ],
   "source": [
    "# Extract Chicken Pox (Varicella) status\n",
    "pattern = \"Chicken Pox \\(Varicella\\):(.*)\"\n",
    "\n",
    "match = re.findall(pattern, text_1, flags=0)\n",
    "print(match[0].strip())"
   ]
  },
  {
   "cell_type": "code",
   "execution_count": 93,
   "id": "7850cbec-098d-4bee-9b47-d53f534eef0c",
   "metadata": {},
   "outputs": [
    {
     "name": "stdout",
     "output_type": "stream",
     "text": [
      "IMMUNE\n"
     ]
    }
   ],
   "source": [
    "# Extract Measies status\n",
    "pattern = \"Measles:(.*)\"\n",
    "\n",
    "match = re.findall(pattern, text_1, flags=0)\n",
    "print(match[0].strip())"
   ]
  },
  {
   "cell_type": "code",
   "execution_count": 74,
   "id": "5a864d4b-cf8c-4ba0-a8a5-4e745962ca8d",
   "metadata": {},
   "outputs": [
    {
     "name": "stdout",
     "output_type": "stream",
     "text": [
      "Migraine\n"
     ]
    },
    {
     "name": "stderr",
     "output_type": "stream",
     "text": [
      "<>:2: SyntaxWarning: invalid escape sequence '\\('\n",
      "<>:2: SyntaxWarning: invalid escape sequence '\\('\n",
      "/tmp/ipykernel_15266/2603262188.py:2: SyntaxWarning: invalid escape sequence '\\('\n",
      "  pattern = \"List any Medical Problems \\(asthma, seizures, headaches\\):(.*)\"\n"
     ]
    }
   ],
   "source": [
    "# Extract medical problem\n",
    "pattern = \"List any Medical Problems \\(asthma, seizures, headaches\\):(.*)\"\n",
    "\n",
    "match = re.findall(pattern, text_1, flags=re.DOTALL)\n",
    "print(match[0].strip())"
   ]
  },
  {
   "cell_type": "code",
   "execution_count": null,
   "id": "04bbb7b3-be5d-4839-a43d-680fcd7f5279",
   "metadata": {},
   "outputs": [],
   "source": []
  },
  {
   "cell_type": "code",
   "execution_count": 75,
   "id": "e35dae07-e3f8-49ea-877a-efb4cb90791b",
   "metadata": {},
   "outputs": [],
   "source": [
    "text_2 = '''\n",
    "\n",
    "Name of Insurance Company:\n",
    "Random Insuarance Company \n",
    "\n",
    "Address: \n",
    "4789 Bollinger Rd, Jersey City, New Jersey, 07030\n",
    "\n",
    "Policy Number:\n",
    "7115207313 \n",
    "\n",
    "Expiry Date: 30 December 2020\n",
    "\n",
    "Do you have medical insurance?\n",
    "Yes\n",
    "\n",
    "Medical Insurance Details:\n",
    "Insurande Details:\n",
    "\n",
    "List any allergies:\n",
    "Peanuts\n",
    "\n",
    "List any medication taken regularly:\n",
    "Triptans\n",
    "\n",
    "'''"
   ]
  },
  {
   "cell_type": "code",
   "execution_count": 76,
   "id": "07e8e0c5-b1ba-4d13-8ec9-314f41130749",
   "metadata": {},
   "outputs": [
    {
     "name": "stdout",
     "output_type": "stream",
     "text": [
      "Random Insuarance Company\n"
     ]
    }
   ],
   "source": [
    "# Extract the insurance company name\n",
    "pattern = r\"Name of Insurance Company:\\s*(.*?)\\s*(?:Address:|\\n[A-Z]|$)\"\n",
    "\n",
    "match = re.findall(pattern, text_2, flags=re.DOTALL)\n",
    "print(match[0].strip())"
   ]
  },
  {
   "cell_type": "code",
   "execution_count": 77,
   "id": "ddbc90d0-5748-4225-b681-c1221a53bfe4",
   "metadata": {},
   "outputs": [
    {
     "name": "stdout",
     "output_type": "stream",
     "text": [
      "4789 Bollinger Rd, Jersey City, New Jersey, 07030\n"
     ]
    }
   ],
   "source": [
    "pattern = \"Address:[^\\n]*(.*)Policy Number\"\n",
    "\n",
    "match = re.findall(pattern, text_2, flags=re.DOTALL)\n",
    "print(match[0].strip())"
   ]
  },
  {
   "cell_type": "code",
   "execution_count": 78,
   "id": "48e7ff6b-d8a6-4463-9eb9-b5e42d3bd351",
   "metadata": {},
   "outputs": [
    {
     "name": "stdout",
     "output_type": "stream",
     "text": [
      "7115207313\n"
     ]
    }
   ],
   "source": [
    "# Get the Policy Number:\n",
    "pattern = \"Policy Number:[^\\n]*(.*)Expiry Date\"\n",
    "\n",
    "match = re.findall(pattern, text_2, flags=re.DOTALL)\n",
    "print(match[0].strip())"
   ]
  },
  {
   "cell_type": "code",
   "execution_count": 79,
   "id": "5831a01d-4785-4288-b1e0-75fee3289fb3",
   "metadata": {},
   "outputs": [
    {
     "name": "stdout",
     "output_type": "stream",
     "text": [
      "30 December 2020\n"
     ]
    }
   ],
   "source": [
    "# Extract Expiry Date:\n",
    "# Match a date in format like: 30 December 2020\n",
    "pattern = r\"\\b\\d{1,2} [A-Za-z]+ \\d{4}\\b\"\n",
    "\n",
    "match = re.search(pattern, text_2)\n",
    "if match:\n",
    "    print(match.group(0))\n",
    "else:\n",
    "    print(\"Date not found.\")"
   ]
  },
  {
   "cell_type": "code",
   "execution_count": 80,
   "id": "6007d280-0402-4c4a-a9d1-11a54738829e",
   "metadata": {
    "scrolled": true
   },
   "outputs": [
    {
     "name": "stdout",
     "output_type": "stream",
     "text": [
      "Insurande Details:\n",
      "\n",
      "List any allergies:\n",
      "Peanuts\n",
      "\n",
      "List any medication taken regularly:\n",
      "Triptans\n"
     ]
    }
   ],
   "source": [
    "# Extract Medical history:\n",
    "pattern = \"Medical Insurance Details:(.*)\\n\"\n",
    "\n",
    "match = re.findall(pattern, text_2, flags=re.DOTALL)\n",
    "print(match[0].strip())"
   ]
  },
  {
   "cell_type": "code",
   "execution_count": 94,
   "id": "c994c970-ba3f-48dd-8c20-c27d19c5bcf3",
   "metadata": {},
   "outputs": [],
   "source": [
    "text_3 = '''\n",
    "\n",
    "17/12/2020\n",
    "\n",
    "Patient Medical Record\n",
    "\n",
    "Patient Information:\n",
    "\n",
    "Patient details:\n",
    "\n",
    "Name: Jerry Lucas\n",
    "Birth Date: May 2 1998\n",
    "Weight: 57kg\n",
    "Height: 170pd\n",
    "Phone: (279) 920-8204\n",
    "Address: \n",
    "4218 Wheeler Ridge Dr, Buffalo, New York, United States. \n",
    "\n",
    "In Case of Emergency:\n",
    "\n",
    "Emergency Contact:\n",
    "\n",
    "Joe Lucas\n",
    "Address: 4218 Wheeler Ridge Dr.\n",
    "Buffalo, New York,\n",
    "United States.\n",
    "Work phone: (990) 635-8792\n",
    "\n",
    "General Medical History:\n",
    "\n",
    "Medical History:\n",
    "\n",
    "Chicken Pox (Varicella): IMMUNE\n",
    "Maesles: NOT IMMUNE\n",
    "Have you had the Hepatitis B vaccination?\n",
    "Yes\n",
    "List any Medical Problems (asthma, seizures, headaches): \n",
    "N/A\n",
    "\n",
    "'''"
   ]
  },
  {
   "cell_type": "code",
   "execution_count": 95,
   "id": "de53bf80-e1d9-4ae9-bebb-60a127ff2f7e",
   "metadata": {},
   "outputs": [
    {
     "name": "stdout",
     "output_type": "stream",
     "text": [
      "Jerry Lucas\n"
     ]
    }
   ],
   "source": [
    "# Patient name\n",
    "pattern = 'Name:(.*)'\n",
    "\n",
    "match = re.findall(pattern, text_3, flags=0)\n",
    "print(match[0].strip())"
   ]
  },
  {
   "cell_type": "code",
   "execution_count": 96,
   "id": "7f7efae7-e6e4-4540-911e-714d30e57f77",
   "metadata": {},
   "outputs": [
    {
     "name": "stdout",
     "output_type": "stream",
     "text": [
      "(279) 920-8204\n"
     ]
    }
   ],
   "source": [
    "# Patient phone number\n",
    "pattern = 'Phone:(.*)'\n",
    "\n",
    "match = re.findall(pattern, text_3, flags=0)\n",
    "print(match[0].strip())"
   ]
  },
  {
   "cell_type": "code",
   "execution_count": 100,
   "id": "579d33e9-c341-49e6-bfda-3f2f233e8d93",
   "metadata": {},
   "outputs": [
    {
     "name": "stdout",
     "output_type": "stream",
     "text": [
      "4218 Wheeler Ridge Dr, Buffalo, New York, United States.\n"
     ]
    }
   ],
   "source": [
    "# Extract the patient address\n",
    "# Pattern to capture the street and city/ZIP\n",
    "pattern = \"Address:[^\\n]*(.*)In Case of Emergency:\"\n",
    "\n",
    "match = re.findall(pattern, text_3, flags=re.DOTALL)\n",
    "print(match[0].strip())"
   ]
  },
  {
   "cell_type": "code",
   "execution_count": 97,
   "id": "5e92b3d7-1a51-4151-9f15-c15dc76f3cce",
   "metadata": {},
   "outputs": [
    {
     "name": "stdout",
     "output_type": "stream",
     "text": [
      "Yes\n"
     ]
    },
    {
     "name": "stderr",
     "output_type": "stream",
     "text": [
      "<>:2: SyntaxWarning: invalid escape sequence '\\?'\n",
      "<>:2: SyntaxWarning: invalid escape sequence '\\?'\n",
      "/tmp/ipykernel_15266/2372587022.py:2: SyntaxWarning: invalid escape sequence '\\?'\n",
      "  pattern = \"Have you had the Hepatitis B vaccination\\?.*(Yes|No)\"\n"
     ]
    }
   ],
   "source": [
    "# Extract vaccine\n",
    "pattern = \"Have you had the Hepatitis B vaccination\\?.*(Yes|No)\"\n",
    "\n",
    "match = re.findall(pattern, text_3, flags=re.DOTALL)\n",
    "print(match[0].strip())"
   ]
  },
  {
   "cell_type": "code",
   "execution_count": 101,
   "id": "41028679-d4cd-432c-926b-e7943ed10da7",
   "metadata": {},
   "outputs": [
    {
     "name": "stdout",
     "output_type": "stream",
     "text": [
      "N/A\n"
     ]
    }
   ],
   "source": [
    "# Extract medical problem\n",
    "pattern = r\"List any Medical Problems.*?:\\s*(.*)\"\n",
    "\n",
    "match = re.findall(pattern, text_3, flags=re.DOTALL)\n",
    "print(match[0].strip())"
   ]
  },
  {
   "cell_type": "code",
   "execution_count": null,
   "id": "6c4831e9-c0aa-4fcf-82b7-8eddaae32d66",
   "metadata": {},
   "outputs": [],
   "source": []
  },
  {
   "cell_type": "code",
   "execution_count": null,
   "id": "2398912c-4e02-4e9f-9898-358c5a915503",
   "metadata": {},
   "outputs": [],
   "source": []
  }
 ],
 "metadata": {
  "kernelspec": {
   "display_name": "Python 3 (ipykernel)",
   "language": "python",
   "name": "python3"
  },
  "language_info": {
   "codemirror_mode": {
    "name": "ipython",
    "version": 3
   },
   "file_extension": ".py",
   "mimetype": "text/x-python",
   "name": "python",
   "nbconvert_exporter": "python",
   "pygments_lexer": "ipython3",
   "version": "3.12.9"
  }
 },
 "nbformat": 4,
 "nbformat_minor": 5
}
