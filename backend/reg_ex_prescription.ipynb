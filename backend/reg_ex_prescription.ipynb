{
 "cells": [
  {
   "cell_type": "code",
   "execution_count": 1,
   "id": "6ea25408-75bb-4130-b580-fb473ae6f603",
   "metadata": {},
   "outputs": [],
   "source": [
    "import re"
   ]
  },
  {
   "cell_type": "code",
   "execution_count": 2,
   "id": "270fe1cd-d89d-477a-ad64-673b943b7565",
   "metadata": {},
   "outputs": [
    {
     "name": "stderr",
     "output_type": "stream",
     "text": [
      "<>:3: SyntaxWarning: invalid escape sequence '\\d'\n",
      "<>:3: SyntaxWarning: invalid escape sequence '\\d'\n",
      "/tmp/ipykernel_4998/1509217316.py:3: SyntaxWarning: invalid escape sequence '\\d'\n",
      "  pattern = '\\d+'\n"
     ]
    },
    {
     "data": {
      "text/plain": [
       "['1321119999', '120']"
      ]
     },
     "execution_count": 2,
     "metadata": {},
     "output_type": "execute_result"
    }
   ],
   "source": [
    "text = \"Patient's phone is 1321119999.  Bille amount is 120$\"\n",
    "\n",
    "pattern = '\\d+'\n",
    "\n",
    "match = re.findall(pattern, text)\n",
    "match"
   ]
  },
  {
   "cell_type": "code",
   "execution_count": 3,
   "id": "9712480c-b14a-43d5-b473-4dfde7da9514",
   "metadata": {},
   "outputs": [
    {
     "name": "stderr",
     "output_type": "stream",
     "text": [
      "<>:2: SyntaxWarning: invalid escape sequence '\\d'\n",
      "<>:2: SyntaxWarning: invalid escape sequence '\\d'\n",
      "/tmp/ipykernel_4998/1399138799.py:2: SyntaxWarning: invalid escape sequence '\\d'\n",
      "  pattern = '\\d{10}'\n"
     ]
    },
    {
     "data": {
      "text/plain": [
       "['1321119999']"
      ]
     },
     "execution_count": 3,
     "metadata": {},
     "output_type": "execute_result"
    }
   ],
   "source": [
    "# Extract only phone number\n",
    "pattern = '\\d{10}'\n",
    "\n",
    "phone_num = re.findall(pattern, text)\n",
    "phone_num"
   ]
  },
  {
   "cell_type": "code",
   "execution_count": 4,
   "id": "ef5e2ad2-f95b-4000-9a3f-f8f7cf2a2b25",
   "metadata": {},
   "outputs": [
    {
     "name": "stderr",
     "output_type": "stream",
     "text": [
      "<>:3: SyntaxWarning: invalid escape sequence '\\('\n",
      "<>:3: SyntaxWarning: invalid escape sequence '\\('\n",
      "/tmp/ipykernel_4998/2166360607.py:3: SyntaxWarning: invalid escape sequence '\\('\n",
      "  pattern = '\\(\\d{3}\\)-\\d{3}-\\d{4}|\\d{10}|\\d+\\$'\n"
     ]
    },
    {
     "data": {
      "text/plain": [
       "['(732)-111-9999', '7329996666', '120$']"
      ]
     },
     "execution_count": 4,
     "metadata": {},
     "output_type": "execute_result"
    }
   ],
   "source": [
    "text = \"Patient's phone number is (732)-111-9999, spouse phone number is 7329996666. Bill amount is 120$\"\n",
    "\n",
    "pattern = '\\(\\d{3}\\)-\\d{3}-\\d{4}|\\d{10}|\\d+\\$'\n",
    "\n",
    "phone_num = re.findall(pattern, text)\n",
    "phone_num"
   ]
  },
  {
   "cell_type": "code",
   "execution_count": 5,
   "id": "592c98f4-cadc-4aa7-a98a-cd60de16dfdb",
   "metadata": {},
   "outputs": [
    {
     "name": "stderr",
     "output_type": "stream",
     "text": [
      "<>:3: SyntaxWarning: invalid escape sequence '\\d'\n",
      "<>:3: SyntaxWarning: invalid escape sequence '\\d'\n",
      "/tmp/ipykernel_4998/3338511936.py:3: SyntaxWarning: invalid escape sequence '\\d'\n",
      "  pattern = '(\\d{10})\\D+(\\d+)\\$'\n"
     ]
    },
    {
     "data": {
      "text/plain": [
       "<re.Match object; span=(19, 52), match='7321119999.  Bille amount is 120$'>"
      ]
     },
     "execution_count": 5,
     "metadata": {},
     "output_type": "execute_result"
    }
   ],
   "source": [
    "text = \"Patient's phone is 7321119999.  Bille amount is 120$\"\n",
    "\n",
    "pattern = '(\\d{10})\\D+(\\d+)\\$'\n",
    "\n",
    "match = re.search(pattern, text)\n",
    "match"
   ]
  },
  {
   "cell_type": "code",
   "execution_count": 6,
   "id": "70505948-521f-4332-a94e-ea5b5ba407cf",
   "metadata": {},
   "outputs": [],
   "source": [
    "phone_number, bill_amount = match.groups()"
   ]
  },
  {
   "cell_type": "code",
   "execution_count": 7,
   "id": "03b0db66-d793-4db9-b1dd-f06a0db4c57e",
   "metadata": {},
   "outputs": [
    {
     "data": {
      "text/plain": [
       "'7321119999'"
      ]
     },
     "execution_count": 7,
     "metadata": {},
     "output_type": "execute_result"
    }
   ],
   "source": [
    "phone_number"
   ]
  },
  {
   "cell_type": "code",
   "execution_count": 8,
   "id": "14e19c14-cd02-4fec-a64e-5611435921ae",
   "metadata": {},
   "outputs": [
    {
     "data": {
      "text/plain": [
       "'120'"
      ]
     },
     "execution_count": 8,
     "metadata": {},
     "output_type": "execute_result"
    }
   ],
   "source": [
    "bill_amount"
   ]
  },
  {
   "cell_type": "code",
   "execution_count": 24,
   "id": "4d650fa2-86bb-4bf5-86fb-497546f952e3",
   "metadata": {},
   "outputs": [],
   "source": [
    "text_1 = '''\n",
    "Dr John Smith, M.D\n",
    "2 Non-Important Street,\n",
    "New York, Phone (000)-111-2222\n",
    "\n",
    "Name: Maria Sharapova Date: 5/11/2022\n",
    "\n",
    "Address: 9 tennis court, new Russia, DC\n",
    "\n",
    "Prednisone 20 mg\n",
    "Lialda 2.4 gram\n",
    "\n",
    "Directions:\n",
    "\n",
    "Prednisone, Taper 5 mg every 3 days,\n",
    "Finish in 2.5 weeks a\n",
    "Lialda - take 2 pill everyday for 1 month\n",
    "\n",
    "Refill: 2 times\n",
    "'''"
   ]
  },
  {
   "cell_type": "code",
   "execution_count": 26,
   "id": "a38243f9-cb1b-4af3-9a16-3e80588aee51",
   "metadata": {},
   "outputs": [
    {
     "name": "stdout",
     "output_type": "stream",
     "text": [
      "Maria Sharapova\n"
     ]
    }
   ],
   "source": [
    "# Extract the name\n",
    "pattern = r'Name:\\s*(.*?)\\s*Date:'\n",
    "\n",
    "match = re.findall(pattern, text_1, flags=0)\n",
    "print(match[0].strip())"
   ]
  },
  {
   "cell_type": "code",
   "execution_count": 27,
   "id": "8e40b573-557b-421c-b707-fbbd7b01586c",
   "metadata": {},
   "outputs": [
    {
     "name": "stdout",
     "output_type": "stream",
     "text": [
      "9 tennis court, new Russia, DC\n"
     ]
    }
   ],
   "source": [
    "# Extract the Address\n",
    "pattern = 'Address:(.*)'\n",
    "\n",
    "match = re.findall(pattern, text_1, flags=0)\n",
    "print(match[0].strip())"
   ]
  },
  {
   "cell_type": "code",
   "execution_count": 67,
   "id": "26725113-016c-41a2-a851-d1b1531ea93a",
   "metadata": {},
   "outputs": [
    {
     "name": "stdout",
     "output_type": "stream",
     "text": [
      "Prednisone 20 mg / Lialda 2.4 gram\n"
     ]
    }
   ],
   "source": [
    "# Extract Prescriptions\n",
    "# pattern = 'Address: 9 tennis court, new Russia, DC[^\\n]*(.*)Directions'\n",
    "\n",
    "# match = re.findall(pattern, text_1, flags=re.DOTALL)\n",
    "# match[0].strip()\n",
    "\n",
    "pattern = r'Address:.*?\\n(.*?)Directions:'\n",
    "match = re.search(pattern, text_1, flags=re.DOTALL)\n",
    "if match:\n",
    "    block = match.group(1)\n",
    "\n",
    "    # Step 2: Remove the address line if still present, and extract meds\n",
    "    lines = block.strip().splitlines()\n",
    "    med_lines = [line.strip() for line in lines if re.search(r'[A-Z][a-z]+\\s[0-9.]+\\s(?:mg|gram)', line)]\n",
    "\n",
    "    # Step 3: Join found meds\n",
    "    print(' / '.join(med_lines))"
   ]
  },
  {
   "cell_type": "code",
   "execution_count": 70,
   "id": "be9cc0e3-4fe9-414c-b202-40cc02bad5d7",
   "metadata": {},
   "outputs": [
    {
     "name": "stdout",
     "output_type": "stream",
     "text": [
      "Prednisone, Taper 5 mg every 3 days,\n",
      "Finish in 2.5 weeks a\n",
      "Lialda - take 2 pill everyday for 1 month\n"
     ]
    }
   ],
   "source": [
    "# Extract Directions\n",
    "# pattern = 'Directions[^\\n]*(.*)Refill: 2 times'\n",
    "\n",
    "# match = re.findall(pattern, text_1, flags=re.DOTALL)\n",
    "# print(match[0].strip())\n",
    "\n",
    "def extract_directions(text):\n",
    "    pattern = r'Directions:\\s*(.*?)(?:Refill:|$)'\n",
    "    match = re.search(pattern, text, flags=re.DOTALL)\n",
    "    return match.group(1).strip() if match else None\n",
    "\n",
    "print(extract_directions(text_1))"
   ]
  },
  {
   "cell_type": "code",
   "execution_count": 33,
   "id": "417a9b33-85fc-4e7b-a602-839d37ddf63a",
   "metadata": {},
   "outputs": [
    {
     "name": "stdout",
     "output_type": "stream",
     "text": [
      "2 times\n"
     ]
    }
   ],
   "source": [
    "# Extract Refill\n",
    "pattern = 'Refill:(.*)'\n",
    "\n",
    "match = re.findall(pattern, text_1, flags=0)\n",
    "print(match[0].strip())"
   ]
  },
  {
   "cell_type": "code",
   "execution_count": 78,
   "id": "7fa0808f-9ed4-4c48-943a-4269cb8b5e78",
   "metadata": {},
   "outputs": [
    {
     "name": "stdout",
     "output_type": "stream",
     "text": [
      "Dr John Smith, M.D\n"
     ]
    }
   ],
   "source": [
    "# Extract the doctor name\n",
    "pattern = r'(Dr\\s+John\\s+Smith,\\s*M\\.D)'  #'Dr John Smith, M.D'\n",
    "\n",
    "match = re.findall(pattern, text_1, flags=0)\n",
    "print(match[0].strip())"
   ]
  },
  {
   "cell_type": "code",
   "execution_count": null,
   "id": "5d8cd08e-eb35-4457-a023-832b913ea8ed",
   "metadata": {},
   "outputs": [],
   "source": []
  },
  {
   "cell_type": "code",
   "execution_count": 71,
   "id": "2d448658-1834-4bc8-a800-c7e222736206",
   "metadata": {},
   "outputs": [],
   "source": [
    "text_2 = '''\n",
    "Dr John Smith, M.D\n",
    "\n",
    "2 Non-Important street,\n",
    "New York, Phone (900)-323- ~2222\n",
    "\n",
    "Name:  Virat Kohli Date: 2/05/2022\n",
    "\n",
    "Address: 2 cricket blvd, New Delhi\n",
    "\n",
    "| Omeprazole 40 mg\n",
    "\n",
    "Directions: Use two tablets daily for three months\n",
    "\n",
    "Refill: 3 times\n",
    "'''"
   ]
  },
  {
   "cell_type": "code",
   "execution_count": 72,
   "id": "20ec96d3-df5e-4d5a-8863-76c576112d5b",
   "metadata": {},
   "outputs": [
    {
     "name": "stdout",
     "output_type": "stream",
     "text": [
      "Virat Kohli\n"
     ]
    }
   ],
   "source": [
    "# Extract the name\n",
    "pattern = r'Name:\\s*(.*?)\\s*Date:'\n",
    "\n",
    "match = re.findall(pattern, text_2, flags=0)\n",
    "print(match[0].strip())"
   ]
  },
  {
   "cell_type": "code",
   "execution_count": 73,
   "id": "3e5068b2-84ce-4b15-b5e0-6440367dd022",
   "metadata": {},
   "outputs": [
    {
     "name": "stdout",
     "output_type": "stream",
     "text": [
      "2 cricket blvd, New Delhi\n"
     ]
    }
   ],
   "source": [
    "# Extract the Address\n",
    "pattern = 'Address:(.*)'\n",
    "\n",
    "match = re.findall(pattern, text_2, flags=0)\n",
    "print(match[0].strip())"
   ]
  },
  {
   "cell_type": "code",
   "execution_count": 74,
   "id": "094b8963-1b1f-4b99-b61b-6d87a0fa4063",
   "metadata": {},
   "outputs": [
    {
     "name": "stdout",
     "output_type": "stream",
     "text": [
      "| Omeprazole 40 mg\n"
     ]
    }
   ],
   "source": [
    "# Extract Prescriptions\n",
    "# pattern = 'Address: 2 cricket blvd, New Delhi[^\\n]*(.*)Directions'\n",
    "\n",
    "# match = re.findall(pattern, text_2, flags=re.DOTALL)\n",
    "# match[0].strip()\n",
    "\n",
    "pattern = r'Address:.*?\\n(.*?)Directions:'\n",
    "match = re.search(pattern, text_2, flags=re.DOTALL)\n",
    "if match:\n",
    "    block = match.group(1)\n",
    "\n",
    "    # Step 2: Remove the address line if still present, and extract meds\n",
    "    lines = block.strip().splitlines()\n",
    "    med_lines = [line.strip() for line in lines if re.search(r'[A-Z][a-z]+\\s[0-9.]+\\s(?:mg|gram)', line)]\n",
    "\n",
    "    # Step 3: Join found meds\n",
    "    print(' / '.join(med_lines))"
   ]
  },
  {
   "cell_type": "code",
   "execution_count": 75,
   "id": "2a49c4c2-4707-444a-91d9-30ec79e89fd6",
   "metadata": {},
   "outputs": [
    {
     "name": "stdout",
     "output_type": "stream",
     "text": [
      "Use two tablets daily for three months\n"
     ]
    }
   ],
   "source": [
    "# Extract Directions\n",
    "# pattern = 'Directions:(.*)'\n",
    "\n",
    "# match = re.findall(pattern, text_2, flags=0)\n",
    "# print(match[0].strip())\n",
    "\n",
    "\n",
    "def extract_directions(text):\n",
    "    pattern = r'Directions:\\s*(.*?)(?:Refill:|$)'\n",
    "    match = re.search(pattern, text, flags=re.DOTALL)\n",
    "    return match.group(1).strip() if match else None\n",
    "\n",
    "print(extract_directions(text_2))"
   ]
  },
  {
   "cell_type": "code",
   "execution_count": 76,
   "id": "14dbd0ba-d644-4528-a97d-21b2e4a2767a",
   "metadata": {},
   "outputs": [
    {
     "name": "stdout",
     "output_type": "stream",
     "text": [
      "3 times\n"
     ]
    }
   ],
   "source": [
    "# Extract Refill\n",
    "pattern = 'Refill:(.*)'\n",
    "\n",
    "match = re.findall(pattern, text_2, flags=0)\n",
    "print(match[0].strip())"
   ]
  },
  {
   "cell_type": "code",
   "execution_count": 77,
   "id": "ffa31874-2fec-4e3f-9904-71b7389cdc2e",
   "metadata": {},
   "outputs": [
    {
     "name": "stdout",
     "output_type": "stream",
     "text": [
      "Dr John Smith, M.D\n"
     ]
    }
   ],
   "source": [
    "# Extract the doctor name\n",
    "pattern = 'Dr John Smith, M.D'\n",
    "\n",
    "match = re.findall(pattern, text_2, flags=0)\n",
    "print(match[0].strip())"
   ]
  },
  {
   "cell_type": "code",
   "execution_count": null,
   "id": "33d76bdc-215a-4b91-be2a-2e34d844dc6b",
   "metadata": {},
   "outputs": [],
   "source": []
  },
  {
   "cell_type": "code",
   "execution_count": 17,
   "id": "7eee510c-0ce1-4d29-b70e-f37a8500768d",
   "metadata": {},
   "outputs": [],
   "source": [
    "# From the following paragraph extract directions and refill.\n",
    "\n",
    "text = \"\"\"Directions:\n",
    "Prednisone, Taper 5 mg every 3 days, \n",
    "Finish in 2.5 weeks a Lialda - take 2 pills everyday for 1 month\n",
    "Refill: 2 times\"\"\""
   ]
  },
  {
   "cell_type": "code",
   "execution_count": 18,
   "id": "97e4edde-b4ff-491d-b662-dbc3ed21ec6f",
   "metadata": {},
   "outputs": [
    {
     "name": "stdout",
     "output_type": "stream",
     "text": [
      "Prednisone, Taper 5 mg every 3 days, \n",
      "Finish in 2.5 weeks a Lialda - take 2 pills everyday for 1 month\n"
     ]
    }
   ],
   "source": [
    "pattern = 'Directions:[^\\n]*(.*)Refill'\n",
    "\n",
    "match = re.findall(pattern, text, flags=re.DOTALL)\n",
    "print(match[0].strip())"
   ]
  },
  {
   "cell_type": "code",
   "execution_count": 19,
   "id": "88f2d5e6-155d-4ed5-84d1-5a6757ef6e6a",
   "metadata": {},
   "outputs": [
    {
     "name": "stdout",
     "output_type": "stream",
     "text": [
      "2\n"
     ]
    }
   ],
   "source": [
    "pattern = 'Refill:(.*)times'\n",
    "\n",
    "match = re.findall(pattern, text, flags=re.DOTALL)\n",
    "print(match[0].strip())"
   ]
  },
  {
   "cell_type": "code",
   "execution_count": 20,
   "id": "ed47f288-f556-4b23-aaae-247a531d1db6",
   "metadata": {},
   "outputs": [],
   "source": [
    "# Extract all Twitter handles from the following text (i.e. your answer should be teslarati, dummy_tesla, and dummy_2_tesla). \n",
    "# Twitter handle is the text that appears after https://twitter.com/ and is a single word. Also, it contains only alphanumeric\n",
    "# characters i.e. A-Z a-z, o to 9, and underscore _\n",
    "\n",
    "text = '''Follow our leader Elon musk on Twitter \n",
    "here: <a href=\"https://twitter.com/elonmusk\" rel=\"nofollow\">https://twitter.com/elonmusk</a>, more information \n",
    "on Tesla's products can be found at <a href=\"https://www.tesla.com/\" rel=\"nofollow\">https://www.tesla.com/</a>. \n",
    "Also here are leading influencers for tesla-related news, \n",
    "<a href=\"https://twitter.com/teslarati\" rel=\"nofollow\">https://twitter.com/teslarati</a>\n",
    "<a href=\"https://twitter.com/dummy_tesla\" rel=\"nofollow\">https://twitter.com/dummy_tesla</a>\n",
    "<a href=\"https://twitter.com/dummy_2_tesla\" rel=\"nofollow\">https://twitter.com/dummy_2_tesla</a>'''"
   ]
  },
  {
   "cell_type": "code",
   "execution_count": 21,
   "id": "3768ed59-6e45-4d5a-a241-1d70491d2d9a",
   "metadata": {},
   "outputs": [
    {
     "name": "stdout",
     "output_type": "stream",
     "text": [
      "teslarati, dummy_tesla, dummy_2_tesla\n"
     ]
    }
   ],
   "source": [
    "# Regular expression to match Twitter handles from URLs\n",
    "\n",
    "# Pattern to match Twitter handles, but only in the href attribute\n",
    "pattern = r'<a href=\"https://twitter\\.com/([a-zA-Z0-9_]+)\"'\n",
    "#pattern = \"https:\\/\\/twitter.com\\/([a-zA-Z0-9_]+)\"\n",
    "\n",
    "# Find all matches\n",
    "matches = re.findall(pattern, text)\n",
    "\n",
    "# Remove elonmusk from the list\n",
    "matches = [match for match in matches if match != \"elonmusk\"]\n",
    "\n",
    "print(', '.join(matches))"
   ]
  },
  {
   "cell_type": "code",
   "execution_count": null,
   "id": "ade5bfb9-d77f-40d0-aee5-2edf8843b740",
   "metadata": {},
   "outputs": [],
   "source": []
  },
  {
   "cell_type": "code",
   "execution_count": null,
   "id": "ca997aa1-8446-49e1-87a5-c0e302cc959f",
   "metadata": {},
   "outputs": [],
   "source": []
  }
 ],
 "metadata": {
  "kernelspec": {
   "display_name": "Python 3 (ipykernel)",
   "language": "python",
   "name": "python3"
  },
  "language_info": {
   "codemirror_mode": {
    "name": "ipython",
    "version": 3
   },
   "file_extension": ".py",
   "mimetype": "text/x-python",
   "name": "python",
   "nbconvert_exporter": "python",
   "pygments_lexer": "ipython3",
   "version": "3.12.9"
  }
 },
 "nbformat": 4,
 "nbformat_minor": 5
}
